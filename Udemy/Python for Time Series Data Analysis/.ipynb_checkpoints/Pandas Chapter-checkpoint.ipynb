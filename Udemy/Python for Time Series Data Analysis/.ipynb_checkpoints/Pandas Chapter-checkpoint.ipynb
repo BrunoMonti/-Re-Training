{
 "cells": [
  {
   "cell_type": "markdown",
   "id": "98fadbf2",
   "metadata": {},
   "source": [
    "# Section 4 Pandas"
   ]
  },
  {
   "cell_type": "markdown",
   "id": "64fe09a2-60f3-4e0d-9619-5fbceb9f44f1",
   "metadata": {
    "tags": []
   },
   "source": [
    "## Introduction"
   ]
  },
  {
   "cell_type": "code",
   "execution_count": null,
   "id": "4fdd9ea5-5d65-4dad-819b-68978374a8e9",
   "metadata": {},
   "outputs": [],
   "source": []
  },
  {
   "cell_type": "markdown",
   "id": "276a900a-c2db-4095-9d63-68af8afd7863",
   "metadata": {},
   "source": [
    "---"
   ]
  },
  {
   "cell_type": "markdown",
   "id": "b8b08f44",
   "metadata": {
    "tags": []
   },
   "source": [
    "## Series"
   ]
  },
  {
   "cell_type": "code",
   "execution_count": 2,
   "id": "e85b25dd-45ce-4c85-a238-1cca4bdbe307",
   "metadata": {},
   "outputs": [],
   "source": [
    "import numpy as np\n",
    "import pandas as pd"
   ]
  },
  {
   "cell_type": "code",
   "execution_count": 3,
   "id": "706adb27-f3e7-4841-b3ab-37345dcc25c9",
   "metadata": {},
   "outputs": [],
   "source": [
    "labels = ['a','b','c']"
   ]
  },
  {
   "cell_type": "code",
   "execution_count": 4,
   "id": "fb8c8ac7-0402-4f3c-a219-3cae07af8581",
   "metadata": {},
   "outputs": [],
   "source": [
    "mylist = [10, 20, 30]"
   ]
  },
  {
   "cell_type": "code",
   "execution_count": 5,
   "id": "3b1ea0b2-968e-4e9a-bc93-596617dee400",
   "metadata": {},
   "outputs": [],
   "source": [
    "arr = np.array(mylist)"
   ]
  },
  {
   "cell_type": "code",
   "execution_count": 6,
   "id": "223caf93-5975-47b0-b6ee-5e2140bb48bc",
   "metadata": {},
   "outputs": [
    {
     "data": {
      "text/plain": [
       "array([10, 20, 30])"
      ]
     },
     "execution_count": 6,
     "metadata": {},
     "output_type": "execute_result"
    }
   ],
   "source": [
    "arr"
   ]
  },
  {
   "cell_type": "code",
   "execution_count": 7,
   "id": "99d5dc8d-82ad-48ca-8ebe-3356c46c8a80",
   "metadata": {},
   "outputs": [],
   "source": [
    "d = {'a':10, \"b\":20, \"c\":30}"
   ]
  },
  {
   "cell_type": "code",
   "execution_count": 8,
   "id": "5ea56172-d3d7-45c9-be66-88f6df2107cf",
   "metadata": {},
   "outputs": [
    {
     "data": {
      "text/plain": [
       "0    10\n",
       "1    20\n",
       "2    30\n",
       "dtype: int64"
      ]
     },
     "execution_count": 8,
     "metadata": {},
     "output_type": "execute_result"
    }
   ],
   "source": [
    "pd.Series(data=mylist)"
   ]
  },
  {
   "cell_type": "code",
   "execution_count": null,
   "id": "c0cacc70-304e-45a9-9dd8-88233d19f7ec",
   "metadata": {},
   "outputs": [],
   "source": []
  },
  {
   "cell_type": "code",
   "execution_count": null,
   "id": "d228a635-6a08-4b8a-aa87-cd7d7942b9df",
   "metadata": {},
   "outputs": [],
   "source": []
  },
  {
   "cell_type": "markdown",
   "id": "cbbacdd0-f568-46b2-bc87-41c318551e60",
   "metadata": {},
   "source": [
    "---"
   ]
  },
  {
   "cell_type": "markdown",
   "id": "ee77b2b9",
   "metadata": {},
   "source": [
    "## Dataframes  - Part One"
   ]
  },
  {
   "cell_type": "code",
   "execution_count": null,
   "id": "07bbecbb-0e6d-48ee-a9e2-81114e8ac586",
   "metadata": {},
   "outputs": [],
   "source": []
  },
  {
   "cell_type": "markdown",
   "id": "3784d436-783f-43a4-bbd5-79f6cd919cb8",
   "metadata": {},
   "source": [
    "---"
   ]
  },
  {
   "cell_type": "markdown",
   "id": "d39ce905-1831-4cd8-8d03-82c9d95105b7",
   "metadata": {
    "tags": []
   },
   "source": [
    "## Dataframes - Part Two"
   ]
  },
  {
   "cell_type": "code",
   "execution_count": null,
   "id": "0945efdd-f46f-4201-9c0e-93afeba4a125",
   "metadata": {},
   "outputs": [],
   "source": []
  },
  {
   "cell_type": "markdown",
   "id": "b7505afc-5508-403c-9187-24ce64c0cfe7",
   "metadata": {},
   "source": [
    "---"
   ]
  },
  {
   "cell_type": "markdown",
   "id": "449eb7c6-f550-4a2e-8526-be48742306c6",
   "metadata": {
    "tags": []
   },
   "source": [
    "## Missing Data with Pandas"
   ]
  },
  {
   "cell_type": "code",
   "execution_count": null,
   "id": "10de3d36-11c4-4b93-ad14-71d7baaedef2",
   "metadata": {},
   "outputs": [],
   "source": []
  },
  {
   "cell_type": "markdown",
   "id": "122b9fcc-5a4c-47d8-96bf-3672920f9316",
   "metadata": {},
   "source": [
    "---"
   ]
  },
  {
   "cell_type": "markdown",
   "id": "3bb109ee-f12e-4d74-8984-c15d24b2c204",
   "metadata": {},
   "source": [
    "## Group By Operations"
   ]
  },
  {
   "cell_type": "code",
   "execution_count": null,
   "id": "58ec9056-6ae7-4036-8ca4-db066e961e6d",
   "metadata": {},
   "outputs": [],
   "source": []
  },
  {
   "cell_type": "markdown",
   "id": "f733db8f-583d-4b00-8402-bf57bd11ec33",
   "metadata": {},
   "source": [
    "---"
   ]
  },
  {
   "cell_type": "markdown",
   "id": "d41d5dd9-9e51-4d87-90fb-af81e865ec58",
   "metadata": {},
   "source": [
    "## Common Operations"
   ]
  },
  {
   "cell_type": "code",
   "execution_count": null,
   "id": "213aa943-5516-4681-a534-a39979ff01f2",
   "metadata": {},
   "outputs": [],
   "source": []
  },
  {
   "cell_type": "markdown",
   "id": "3ee04348-ad90-4f67-907c-9a0617aebf97",
   "metadata": {},
   "source": [
    "---"
   ]
  },
  {
   "cell_type": "markdown",
   "id": "8deeb2d4-cb91-4620-9ed4-f31ea029e09c",
   "metadata": {},
   "source": [
    "## Data Input and Output"
   ]
  },
  {
   "cell_type": "code",
   "execution_count": null,
   "id": "1e0cf9fc-d6bc-4c05-a93d-ffce800eb427",
   "metadata": {},
   "outputs": [],
   "source": []
  },
  {
   "cell_type": "markdown",
   "id": "be6f1511-9f36-4c6d-bf0d-d25c81b49b09",
   "metadata": {},
   "source": [
    "---"
   ]
  }
 ],
 "metadata": {
  "kernelspec": {
   "display_name": "Python 3 (ipykernel)",
   "language": "python",
   "name": "python3"
  },
  "language_info": {
   "codemirror_mode": {
    "name": "ipython",
    "version": 3
   },
   "file_extension": ".py",
   "mimetype": "text/x-python",
   "name": "python",
   "nbconvert_exporter": "python",
   "pygments_lexer": "ipython3",
   "version": "3.7.2"
  }
 },
 "nbformat": 4,
 "nbformat_minor": 5
}
