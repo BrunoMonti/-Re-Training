{
 "cells": [
  {
   "cell_type": "markdown",
   "id": "98fadbf2",
   "metadata": {},
   "source": [
    "# Section 7 Time Series Analysis with Statsmodels"
   ]
  },
  {
   "cell_type": "markdown",
   "id": "3784d436-783f-43a4-bbd5-79f6cd919cb8",
   "metadata": {},
   "source": [
    "---"
   ]
  },
  {
   "cell_type": "markdown",
   "id": "d39ce905-1831-4cd8-8d03-82c9d95105b7",
   "metadata": {
    "tags": []
   },
   "source": [
    "## Introduction to Time Series Analysis with Statsmodels"
   ]
  },
  {
   "cell_type": "code",
   "execution_count": 4,
   "id": "11c5ad41",
   "metadata": {},
   "outputs": [],
   "source": [
    "filespath = r\"F:\\Documentos\\Udemy\\Python for Time Series Data Analysis\\UDEMY_TSA_FINAL\\Data\""
   ]
  },
  {
   "cell_type": "markdown",
   "id": "b7505afc-5508-403c-9187-24ce64c0cfe7",
   "metadata": {},
   "source": [
    "---"
   ]
  },
  {
   "cell_type": "markdown",
   "id": "2c646d94",
   "metadata": {},
   "source": [
    "## Introduction to Statsmodels"
   ]
  },
  {
   "cell_type": "code",
   "execution_count": 15,
   "id": "cc70ca60",
   "metadata": {},
   "outputs": [],
   "source": [
    "import pandas as pd\n",
    "import numpy as np"
   ]
  },
  {
   "cell_type": "markdown",
   "id": "9c1e47ab",
   "metadata": {},
   "source": [
    "---"
   ]
  },
  {
   "cell_type": "markdown",
   "id": "21795d98",
   "metadata": {},
   "source": [
    "## ETS Decomposition"
   ]
  },
  {
   "cell_type": "code",
   "execution_count": null,
   "id": "19610689",
   "metadata": {},
   "outputs": [],
   "source": []
  },
  {
   "cell_type": "markdown",
   "id": "7029152b",
   "metadata": {},
   "source": [
    "---"
   ]
  },
  {
   "cell_type": "markdown",
   "id": "e82a04e5",
   "metadata": {},
   "source": [
    "## EWMA - Theory"
   ]
  },
  {
   "cell_type": "code",
   "execution_count": 58,
   "id": "5583030a",
   "metadata": {},
   "outputs": [
    {
     "ename": "TypeError",
     "evalue": "shift() got an unexpected keyword argument 'fill_value'",
     "output_type": "error",
     "traceback": [
      "\u001b[1;31m---------------------------------------------------------------------------\u001b[0m",
      "\u001b[1;31mTypeError\u001b[0m                                 Traceback (most recent call last)",
      "\u001b[1;32m~\\AppData\\Local\\Temp\\ipykernel_19708\\3305109513.py\u001b[0m in \u001b[0;36m<module>\u001b[1;34m\u001b[0m\n\u001b[1;32m----> 1\u001b[1;33m \u001b[0mdf\u001b[0m\u001b[1;33m.\u001b[0m\u001b[0mshift\u001b[0m\u001b[1;33m(\u001b[0m\u001b[0mperiods\u001b[0m\u001b[1;33m=\u001b[0m\u001b[1;36m1\u001b[0m\u001b[1;33m,\u001b[0m \u001b[0mfill_value\u001b[0m\u001b[1;33m=\u001b[0m\u001b[1;36m0\u001b[0m\u001b[1;33m)\u001b[0m\u001b[1;33m\u001b[0m\u001b[1;33m\u001b[0m\u001b[0m\n\u001b[0m",
      "\u001b[1;31mTypeError\u001b[0m: shift() got an unexpected keyword argument 'fill_value'"
     ]
    }
   ],
   "source": [
    "df.shift(periods=1, fill_value=0)"
   ]
  },
  {
   "cell_type": "markdown",
   "id": "b0ee0cdc",
   "metadata": {},
   "source": [
    "---"
   ]
  },
  {
   "cell_type": "markdown",
   "id": "f753da16",
   "metadata": {},
   "source": [
    "## EWMA - Exponentially Weighte Moving Average"
   ]
  },
  {
   "cell_type": "code",
   "execution_count": null,
   "id": "850553e0",
   "metadata": {},
   "outputs": [],
   "source": []
  },
  {
   "cell_type": "markdown",
   "id": "c60e1625",
   "metadata": {},
   "source": [
    "---"
   ]
  },
  {
   "cell_type": "markdown",
   "id": "30c034c8",
   "metadata": {},
   "source": [
    "## Holt - Winters Methods Code Along - Part One"
   ]
  },
  {
   "cell_type": "code",
   "execution_count": null,
   "id": "0520fc58",
   "metadata": {},
   "outputs": [],
   "source": []
  },
  {
   "cell_type": "markdown",
   "id": "eb036b98",
   "metadata": {},
   "source": [
    "---"
   ]
  },
  {
   "cell_type": "markdown",
   "id": "480e0ef1",
   "metadata": {},
   "source": [
    "## Holt - Winters Methods Code Along - Part Two"
   ]
  },
  {
   "cell_type": "code",
   "execution_count": null,
   "id": "d7db190d",
   "metadata": {},
   "outputs": [],
   "source": []
  },
  {
   "cell_type": "markdown",
   "id": "18ad7427",
   "metadata": {},
   "source": [
    "---"
   ]
  }
 ],
 "metadata": {
  "kernelspec": {
   "display_name": "Python 3 (ipykernel)",
   "language": "python",
   "name": "python3"
  },
  "language_info": {
   "codemirror_mode": {
    "name": "ipython",
    "version": 3
   },
   "file_extension": ".py",
   "mimetype": "text/x-python",
   "name": "python",
   "nbconvert_exporter": "python",
   "pygments_lexer": "ipython3",
   "version": "3.7.2"
  }
 },
 "nbformat": 4,
 "nbformat_minor": 5
}
